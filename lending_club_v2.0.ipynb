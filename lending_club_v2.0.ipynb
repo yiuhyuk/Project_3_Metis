{
 "cells": [
  {
   "cell_type": "code",
   "execution_count": 28,
   "metadata": {},
   "outputs": [],
   "source": [
    "import numpy as np\n",
    "import pandas as pd\n",
    "import seaborn as sns\n",
    "import matplotlib.pyplot as plt\n",
    "from patsy import dmatrices, dmatrix\n",
    "import re\n",
    "import pickle\n",
    "from sklearn.model_selection import train_test_split\n",
    "from sklearn.model_selection import StratifiedShuffleSplit\n",
    "from sklearn.preprocessing import StandardScaler\n",
    "from sklearn.neighbors import KNeighborsClassifier\n",
    "from sklearn.model_selection import GridSearchCV\n",
    "from sklearn import linear_model\n",
    "from sklearn import svm\n",
    "from sklearn.naive_bayes import GaussianNB\n",
    "from sklearn.ensemble import RandomForestClassifier\n",
    "import sklearn.metrics as metrics\n",
    "import numpy as np\n",
    "#from keras.utils import to_categorical\n",
    "#from keras.models import Sequential\n",
    "#from keras.layers import Dense, Activation\n",
    "from sklearn.neural_network import MLPClassifier\n",
    "from sklearn.ensemble import BaggingClassifier\n",
    "from sklearn.ensemble import GradientBoostingClassifier\n",
    "\n",
    "seed = 5\n",
    "np.random.seed(seed)\n",
    "\n",
    "pd.set_option('display.max_columns', None)\n",
    "pd.set_option('display.max_rows', None)"
   ]
  },
  {
   "cell_type": "code",
   "execution_count": 29,
   "metadata": {},
   "outputs": [],
   "source": [
    "lc_2015 = pd.read_csv('lc_2015.csv', header=1, low_memory=False)\n",
    "lc_2015_dec = pd.read_csv('lc_2015_dec.csv', header=1, low_memory=False)"
   ]
  },
  {
   "cell_type": "code",
   "execution_count": 30,
   "metadata": {},
   "outputs": [
    {
     "data": {
      "text/plain": [
       "C    120567\n",
       "B    117606\n",
       "A     73336\n",
       "D     62654\n",
       "E     34948\n",
       "F      9817\n",
       "G      2167\n",
       "Name: grade, dtype: int64"
      ]
     },
     "execution_count": 30,
     "metadata": {},
     "output_type": "execute_result"
    }
   ],
   "source": [
    "lc_2015['grade'].value_counts()"
   ]
  },
  {
   "cell_type": "code",
   "execution_count": 31,
   "metadata": {},
   "outputs": [],
   "source": [
    "# Replicate Jeremy's column\n",
    "\n",
    "from datetime import datetime\n",
    "\n",
    "days_since_last_credit_pull_d = []\n",
    "for i in lc_2015['last_credit_pull_d']:\n",
    "    try:\n",
    "        temp_date = datetime.strptime(i, '%b-%Y')\n",
    "        days_since_last_credit_pull_d.append((datetime.today() - temp_date).days)\n",
    "    except:\n",
    "        days_since_last_credit_pull_d.append(0)\n",
    "        \n",
    "lc_2015['days_since_last_credit_pull_d'] = days_since_last_credit_pull_d"
   ]
  },
  {
   "cell_type": "code",
   "execution_count": 32,
   "metadata": {},
   "outputs": [],
   "source": [
    "lc_d_2015 = lc_2015[((lc_2015['loan_status']=='Fully Paid') | (lc_2015['loan_status']=='Charged Off'))].copy()\n",
    "\n",
    "# lc_d_2015 = lc_2015[((lc_2015['grade']=='D') \n",
    "#                    | (lc_2015['grade']=='E')\n",
    "#                    | (lc_2015['grade']=='F')\n",
    "#                    | (lc_2015['grade']=='G'))\n",
    "#                    & (lc_2015['term']==' 36 months')\n",
    "#                    & ((lc_2015['loan_status']=='Fully Paid') | (lc_2015['loan_status']=='Charged Off'))\n",
    "#                   ].copy()\n",
    "\n",
    "lc_d_2015.reset_index(inplace=True)"
   ]
  },
  {
   "cell_type": "code",
   "execution_count": 33,
   "metadata": {},
   "outputs": [
    {
     "data": {
      "text/plain": [
       "Fully Paid     0.671609\n",
       "Charged Off    0.328391\n",
       "Name: loan_status, dtype: float64"
      ]
     },
     "execution_count": 33,
     "metadata": {},
     "output_type": "execute_result"
    }
   ],
   "source": [
    "lc_d_2015['loan_status'].value_counts()/np.sum(lc_d_2015['loan_status'].value_counts())"
   ]
  },
  {
   "cell_type": "code",
   "execution_count": 34,
   "metadata": {},
   "outputs": [
    {
     "data": {
      "text/plain": [
       "Fully Paid     6342\n",
       "Charged Off    3101\n",
       "Name: loan_status, dtype: int64"
      ]
     },
     "execution_count": 34,
     "metadata": {},
     "output_type": "execute_result"
    }
   ],
   "source": [
    "lc_d_2015['loan_status'].value_counts()"
   ]
  },
  {
   "cell_type": "code",
   "execution_count": 35,
   "metadata": {},
   "outputs": [],
   "source": [
    "# Clean up the dataframe\n",
    "\n",
    "# Make my outcome variable 0s and 1s\n",
    "outcome_var = []\n",
    "for i in lc_d_2015['loan_status']:\n",
    "    if i == 'Charged Off':\n",
    "        outcome_var.append(1)\n",
    "    else:\n",
    "        outcome_var.append(0)\n",
    "lc_d_2015['outcome_var'] = outcome_var\n",
    "\n",
    "# Find all the mths_since columns\n",
    "mths_since_list = [i for i in lc_d_2015.columns if 'mths_since' in i]\n",
    "\n",
    "# Bin the mths_since columns to make them valid inputs\n",
    "for col in mths_since_list:\n",
    "    if col != 'sec_app_mths_since_last_major_derog':\n",
    "        category = list(pd.cut(lc_d_2015[col], bins=4, labels=['0', '1', '2', '3']))\n",
    "        for i, val in enumerate(category):\n",
    "            if type(val) != str:\n",
    "                if np.isnan(val):\n",
    "                    category[i] = '4'\n",
    "    lc_d_2015[col + '_cat'] = category\n",
    "    \n",
    "# Replace nulls in columns with strings (i.e. if no job title, replace null with 'none')\n",
    "ok_list = ['emp_title','emp_length']\n",
    "for col in ok_list:\n",
    "    new_list = []\n",
    "    col_values = list(lc_d_2015[col])\n",
    "    for i, val in enumerate(col_values):\n",
    "        if type(val) != str:\n",
    "            if np.isnan(val):\n",
    "                new_list.append('none')\n",
    "            else:\n",
    "                new_list.append(val)\n",
    "        else:\n",
    "            new_list.append(val)\n",
    "    new_col_name = col + '_2'\n",
    "    lc_d_2015[new_col_name] = new_list"
   ]
  },
  {
   "cell_type": "code",
   "execution_count": 36,
   "metadata": {},
   "outputs": [],
   "source": [
    "# Count the nulls for each column and store each count in a dictionary (keys = column name)\n",
    "def count_null(df):\n",
    "    null_dict = {}\n",
    "    for i in df.columns:\n",
    "        if i in null_dict:\n",
    "            null_dict[i] += sum([1 for j in lc_d_2015[i].isna() if j])\n",
    "        else:\n",
    "            null_dict[i] = sum([1 for j in lc_d_2015[i].isna() if j])\n",
    "    return null_dict\n",
    "\n",
    "null_dict = count_null(lc_d_2015)"
   ]
  },
  {
   "cell_type": "code",
   "execution_count": 37,
   "metadata": {},
   "outputs": [
    {
     "data": {
      "text/plain": [
       "(9443, 159)"
      ]
     },
     "execution_count": 37,
     "metadata": {},
     "output_type": "execute_result"
    }
   ],
   "source": [
    "# Check df shape before dropping nulls\n",
    "lc_d_2015.shape"
   ]
  },
  {
   "cell_type": "code",
   "execution_count": 38,
   "metadata": {},
   "outputs": [
    {
     "data": {
      "text/plain": [
       "(7050, 101)"
      ]
     },
     "execution_count": 38,
     "metadata": {},
     "output_type": "execute_result"
    }
   ],
   "source": [
    "# Drop nulls\n",
    "for key, val in null_dict.items():\n",
    "    if val >= 1000:\n",
    "        lc_d_2015.drop(labels=key, axis=1, inplace=True)\n",
    "        \n",
    "null_dict2 = count_null(lc_d_2015)\n",
    "\n",
    "lc_d_2015.dropna(inplace=True)\n",
    "lc_d_2015.shape"
   ]
  },
  {
   "cell_type": "code",
   "execution_count": 39,
   "metadata": {},
   "outputs": [
    {
     "data": {
      "text/plain": [
       "Fully Paid     4714\n",
       "Charged Off    2336\n",
       "Name: loan_status, dtype: int64"
      ]
     },
     "execution_count": 39,
     "metadata": {},
     "output_type": "execute_result"
    }
   ],
   "source": [
    "lc_d_2015['loan_status'].value_counts()"
   ]
  },
  {
   "cell_type": "code",
   "execution_count": 40,
   "metadata": {},
   "outputs": [],
   "source": [
    "#Include?        \tLoanStatNew\n",
    "#Keep for agg    \tid\n",
    "#Maybe           \tlast_pymnt_amnt\n",
    "#Maybe           \tlast_pymnt_d\n",
    "#Outcome         \tloan_status\n",
    "#Keep for agg    \tmember_id\n",
    "#Maybe           \tsub_grade\n",
    "#Category        \tzip_code\n",
    "#Like Outcome    \tdebt_settlement_flag\n",
    "store_list = ['last_pymnt_amnt','last_pymnt_d','loan_status','sub_grade','zip_code','debt_settlement_flag']\n",
    "kept_df = lc_d_2015[store_list].copy()\n",
    "\n",
    "remove_list = ['collection_recovery_fee',\n",
    "               #'grade',                  # <- decided to keep grade in\n",
    "               'initial_list_status',\n",
    "               'next_pymnt_d',\n",
    "               'policy_code',\n",
    "               'title',\n",
    "               'url',\n",
    "               'payment_plan_start_date',\n",
    "               'orig_projected_additional_accrued_interest',\n",
    "               'debt_settlement_flag_date',\n",
    "               'settlement_date']\n",
    "\n",
    "for i in remove_list:\n",
    "    if i in lc_d_2015.columns:\n",
    "        lc_d_2015.drop(labels=i, axis=1, inplace=True)"
   ]
  },
  {
   "cell_type": "code",
   "execution_count": 41,
   "metadata": {},
   "outputs": [
    {
     "data": {
      "text/plain": [
       "loan_status  sub_grade\n",
       "Charged Off  E1            738\n",
       "             E2            566\n",
       "             E3            486\n",
       "             E4            321\n",
       "             E5            225\n",
       "Fully Paid   E1           1640\n",
       "             E2           1221\n",
       "             E3            910\n",
       "             E4            564\n",
       "             E5            379\n",
       "Name: int_rate, dtype: int64"
      ]
     },
     "execution_count": 41,
     "metadata": {},
     "output_type": "execute_result"
    }
   ],
   "source": [
    "lc_d_2015.groupby(by=['loan_status','sub_grade']).count()['int_rate']"
   ]
  },
  {
   "cell_type": "code",
   "execution_count": 42,
   "metadata": {},
   "outputs": [
    {
     "name": "stdout",
     "output_type": "stream",
     "text": [
      "                               days_since_last_credit_pull_d  outcome_var\n",
      "days_since_last_credit_pull_d                       1.000000     0.348443\n",
      "outcome_var                                         0.348443     1.000000\n"
     ]
    },
    {
     "data": {
      "image/png": "[encoded data removed]",
      "text/plain": [
       "<Figure size 432x288 with 1 Axes>"
      ]
     },
     "metadata": {
      "needs_background": "light"
     },
     "output_type": "display_data"
    }
   ],
   "source": [
    "var_x_str = 'days_since_last_credit_pull_d'\n",
    "var_y_str = 'outcome_var'\n",
    "sns.scatterplot(x=var_x_str, y=var_y_str, data=lc_d_2015, alpha=0.2);\n",
    "print(lc_d_2015[[var_x_str, var_y_str]].corr())"
   ]
  },
  {
   "cell_type": "code",
   "execution_count": 43,
   "metadata": {},
   "outputs": [],
   "source": [
    "# More cleaning and feature engineering\n",
    "\n",
    "convert_list = ['int_rate','revol_util']\n",
    "for col in convert_list:\n",
    "    new_list = []\n",
    "    new_name = col + '_float'\n",
    "    for i in lc_d_2015[col]:\n",
    "        if col != 'revol_util':\n",
    "            new_list.append(float(re.findall(r'\\d+\\.\\d+', i)[0])/100)\n",
    "        else:\n",
    "            new_list.append(float(re.findall(r'\\d+', i)[0])/100)\n",
    "    lc_d_2015[new_name] = new_list\n",
    "\n",
    "emp_length_int = []\n",
    "for i in lc_d_2015['emp_length_2']:\n",
    "    if i == 'none':\n",
    "        emp_length_int.append(0)\n",
    "    else:\n",
    "        emp_length_int.append(int(re.findall(r'\\d+', i)[0]))\n",
    "lc_d_2015['emp_length_int'] = emp_length_int\n",
    "\n",
    "earliest_cr_yrs = []\n",
    "for i in lc_d_2015['earliest_cr_line']:\n",
    "    earliest_cr_yrs.append(2019 - int(re.findall(r'\\d+', i)[0]))\n",
    "lc_d_2015['earliest_cr_yrs'] = earliest_cr_yrs"
   ]
  },
  {
   "cell_type": "code",
   "execution_count": 44,
   "metadata": {},
   "outputs": [],
   "source": [
    "# Things to try:\n",
    "# Use zip code to figure out if the borrower lives in urban area or not.  Also high income area or not.\n",
    "# Try to figure out how to use job title (emp_title_2)\n",
    "#    (maybe if the salary is really different from the avg salary for the job title, then it indicates lying)\n",
    "# Use earliest_cr_line to calculate the borrower's age\n",
    "\n",
    "# Figure out the features I want in my model\n",
    "model_cols = ['outcome_var',\n",
    "              #'grade',\n",
    "              #'days_since_last_credit_pull_d',  <- this variable has forward looking bias\n",
    "              'sub_grade',\n",
    "              'loan_amnt', 'int_rate_float', 'home_ownership', 'annual_inc',\n",
    "              'verification_status', 'issue_d', 'purpose', 'addr_state', \n",
    "              'dti', 'delinq_2yrs', 'inq_last_6mths', 'open_acc', 'pub_rec',\n",
    "              'revol_bal', 'revol_util_float', 'total_acc', 'collections_12_mths_ex_med',\n",
    "              'acc_now_delinq', 'tot_coll_amt', 'total_rev_hi_lim', 'acc_open_past_24mths', \n",
    "              'avg_cur_bal', 'bc_open_to_buy', 'chargeoff_within_12_mths', 'delinq_amnt',\n",
    "              'mo_sin_old_rev_tl_op', 'mo_sin_rcnt_rev_tl_op', 'mo_sin_rcnt_tl', 'mort_acc',\n",
    "              'mths_since_recent_bc', 'num_accts_ever_120_pd', 'num_actv_bc_tl', 'num_actv_rev_tl',\n",
    "              'num_bc_sats', 'num_bc_tl', 'num_il_tl', 'num_op_rev_tl', 'num_rev_accts',\n",
    "              'num_tl_30dpd', 'num_tl_90g_dpd_24m', 'num_tl_op_past_12m',\n",
    "              'pct_tl_nvr_dlq', 'pub_rec_bankruptcies', 'tax_liens', 'tot_hi_cred_lim', 'total_bal_ex_mort', \n",
    "              'total_bc_limit', 'total_il_high_credit_limit', 'mths_since_last_delinq_cat',\n",
    "              'mths_since_last_record_cat', 'mths_since_last_major_derog_cat', 'mths_since_rcnt_il_cat',\n",
    "              'mths_since_recent_bc_cat', 'mths_since_recent_bc_dlq_cat', 'mths_since_recent_inq_cat',\n",
    "              'mths_since_recent_revol_delinq_cat', 'emp_length_int', 'earliest_cr_yrs']\n",
    "\n",
    "model_data = lc_d_2015[model_cols].copy()"
   ]
  },
  {
   "cell_type": "code",
   "execution_count": 45,
   "metadata": {},
   "outputs": [],
   "source": [
    "# Cluster Analysis\n",
    "\n",
    "from sklearn.cluster import KMeans\n",
    "\n",
    "cluster_cols = ['emp_length_int', 'annual_inc', 'verification_status', 'purpose', 'home_ownership']\n",
    "\n",
    "# Add interactions\n",
    "cluster_str = cluster_cols[0]\n",
    "for i in cluster_cols[1:]:\n",
    "    cluster_str = cluster_str + ' + ' + i\n",
    "\n",
    "cluster_patsy = dmatrix(cluster_str, model_data)\n",
    "\n",
    "cluster_model = KMeans(n_clusters=5)\n",
    "cluster_model.fit(cluster_patsy)\n",
    "my_clusters = ['group_' + str(i) for i in cluster_model.labels_]\n",
    "\n",
    "model_data['my_clusters'] = my_clusters"
   ]
  },
  {
   "cell_type": "code",
   "execution_count": 46,
   "metadata": {},
   "outputs": [
    {
     "data": {
      "image/png": "[encoded data removed]",
      "text/plain": [
       "<Figure size 1080x1080 with 2 Axes>"
      ]
     },
     "metadata": {
      "needs_background": "light"
     },
     "output_type": "display_data"
    }
   ],
   "source": [
    "# Plot the correlation matrix\n",
    "corrs = model_data.corr()\n",
    "fig, ax = plt.subplots(figsize=(15,15))\n",
    "sns.heatmap(corrs, square=True, cmap=\"RdBu_r\");\n",
    "plt.savefig(fname='corr_matrix', dpi=150)"
   ]
  },
  {
   "cell_type": "code",
   "execution_count": 47,
   "metadata": {},
   "outputs": [
    {
     "name": "stdout",
     "output_type": "stream",
     "text": [
      "(7050, 151)\n"
     ]
    }
   ],
   "source": [
    "# Use Patsy to create my X Matrix\n",
    "x_cols = ['my_clusters',\n",
    "          #'grade',\n",
    "          #'days_since_last_credit_pull_d',\n",
    "          #'sub_grade',\n",
    "          'loan_amnt', 'int_rate_float', 'home_ownership', 'annual_inc',\n",
    "          'verification_status', 'issue_d', 'purpose', 'addr_state', \n",
    "          'dti', 'delinq_2yrs', 'inq_last_6mths', 'open_acc', 'pub_rec',\n",
    "          'revol_bal', 'revol_util_float', 'total_acc', 'collections_12_mths_ex_med',\n",
    "          'acc_now_delinq', 'tot_coll_amt', 'total_rev_hi_lim', 'acc_open_past_24mths', \n",
    "          'avg_cur_bal', 'bc_open_to_buy', 'chargeoff_within_12_mths', 'delinq_amnt',\n",
    "          'mo_sin_old_rev_tl_op', 'mo_sin_rcnt_rev_tl_op', 'mo_sin_rcnt_tl', 'mort_acc',\n",
    "          'mths_since_recent_bc', 'num_accts_ever_120_pd', 'num_actv_bc_tl', 'num_actv_rev_tl',\n",
    "          'num_bc_sats', 'num_bc_tl', 'num_il_tl', 'num_op_rev_tl', 'num_rev_accts',\n",
    "          'num_tl_30dpd', 'num_tl_90g_dpd_24m', 'num_tl_op_past_12m',\n",
    "          'pct_tl_nvr_dlq', 'pub_rec_bankruptcies', 'tax_liens', 'tot_hi_cred_lim', 'total_bal_ex_mort', \n",
    "          'total_bc_limit', 'total_il_high_credit_limit', 'mths_since_last_delinq_cat',\n",
    "          'mths_since_last_record_cat', 'mths_since_last_major_derog_cat', 'mths_since_rcnt_il_cat',\n",
    "          'mths_since_recent_bc_cat', 'mths_since_recent_bc_dlq_cat', 'mths_since_recent_inq_cat',\n",
    "          'mths_since_recent_revol_delinq_cat', 'emp_length_int', 'earliest_cr_yrs']\n",
    "\n",
    "# Add interactions\n",
    "x_str = x_cols[0]\n",
    "for i in x_cols[1:]:\n",
    "    x_str = x_str + ' + ' + i\n",
    "x_str = x_str + '+ loan_amnt*int_rate_float'\n",
    "\n",
    "x_patsy = dmatrix(x_str, model_data)\n",
    "print(x_patsy.shape)"
   ]
  },
  {
   "cell_type": "code",
   "execution_count": 48,
   "metadata": {},
   "outputs": [],
   "source": [
    "# Shuffle and then train/test split of my variables\n",
    "# from sklearn.utils import shuffle\n",
    "\n",
    "# x_raw = x_patsy\n",
    "# y_raw = model_data['outcome_var']\n",
    "\n",
    "#x_shuffle, y_shuffle = shuffle(x_raw, y_raw)\n",
    "#x_mid, x_test, y_mid, y_test = train_test_split(x_shuffle, y_shuffle, test_size=0.2, random_state=0)\n",
    "#x_train, x_val, y_train, y_val = train_test_split(x_mid, y_mid, test_size=0.25, random_state=0)\n",
    "\n",
    "# Stratified train test split\n",
    "x_raw = x_patsy\n",
    "y_raw = np.array(model_data['outcome_var'])\n",
    "\n",
    "sss1 = StratifiedShuffleSplit(n_splits=2, test_size=0.2, random_state=0)\n",
    "sss2 = StratifiedShuffleSplit(n_splits=2, test_size=0.25, random_state=0)\n",
    "\n",
    "sss1.get_n_splits()\n",
    "for train_index, test_index in sss1.split(x_raw, y_raw):\n",
    "    x_mid, x_test = x_raw[train_index,:], x_raw[test_index,:]\n",
    "    y_mid, y_test = y_raw[train_index], y_raw[test_index]\n",
    "\n",
    "sss2.get_n_splits()\n",
    "for train_index, test_index in sss2.split(x_mid, y_mid):\n",
    "    x_train, x_val = x_mid[train_index,:], x_mid[test_index,:]\n",
    "    y_train, y_val = y_mid[train_index], y_mid[test_index]"
   ]
  },
  {
   "cell_type": "code",
   "execution_count": 49,
   "metadata": {},
   "outputs": [],
   "source": [
    "# Normalize my variables\n",
    "scaler = StandardScaler()\n",
    "scaler.fit(x_train)\n",
    "x_norm_train = scaler.transform(x_train)\n",
    "x_norm_val = scaler.transform(x_val)\n",
    "x_norm_test = scaler.transform(x_test)"
   ]
  },
  {
   "cell_type": "code",
   "execution_count": 50,
   "metadata": {},
   "outputs": [],
   "source": [
    "# Run CV with 5 folds (knn)\n",
    "\n",
    "# ks = [501]\n",
    "# param_grid = [{'n_neighbors': ks}]\n",
    "\n",
    "# knn = KNeighborsClassifier()\n",
    "# knn_grid = GridSearchCV(knn, param_grid, cv=5, scoring='roc_auc', verbose=10, n_jobs=-1)\n",
    "# knn_grid.fit(x_norm_train, y_train)"
   ]
  },
  {
   "cell_type": "code",
   "execution_count": 51,
   "metadata": {},
   "outputs": [
    {
     "name": "stdout",
     "output_type": "stream",
     "text": [
      "Fitting 5 folds for each of 10 candidates, totalling 50 fits\n"
     ]
    },
    {
     "name": "stderr",
     "output_type": "stream",
     "text": [
      "[Parallel(n_jobs=-1)]: Using backend LokyBackend with 4 concurrent workers.\n",
      "[Parallel(n_jobs=-1)]: Batch computation too fast (0.1971s.) Setting batch_size=2.\n",
      "[Parallel(n_jobs=-1)]: Done   5 tasks      | elapsed:    0.4s\n",
      "[Parallel(n_jobs=-1)]: Done  12 tasks      | elapsed:    1.0s\n",
      "[Parallel(n_jobs=-1)]: Done  26 tasks      | elapsed:    1.9s\n",
      "[Parallel(n_jobs=-1)]: Done  50 out of  50 | elapsed:    3.6s finished\n"
     ]
    },
    {
     "data": {
      "text/plain": [
       "GridSearchCV(cv=5, error_score='raise-deprecating',\n",
       "       estimator=LogisticRegression(C=1.0, class_weight=None, dual=False, fit_intercept=True,\n",
       "          intercept_scaling=1, max_iter=10000, multi_class='warn',\n",
       "          n_jobs=None, penalty='l2', random_state=None, solver='lbfgs',\n",
       "          tol=0.0001, verbose=0, warm_start=False),\n",
       "       fit_params=None, iid='warn', n_jobs=-1,\n",
       "       param_grid={'C': array([1.00000e+00, 2.78256e+00, 7.74264e+00, 2.15443e+01, 5.99484e+01,\n",
       "       1.66810e+02, 4.64159e+02, 1.29155e+03, 3.59381e+03, 1.00000e+04]), 'penalty': ['l2']},\n",
       "       pre_dispatch='2*n_jobs', refit=True, return_train_score='warn',\n",
       "       scoring='roc_auc', verbose=10)"
      ]
     },
     "execution_count": 51,
     "metadata": {},
     "output_type": "execute_result"
    }
   ],
   "source": [
    "# Run CV with 5 folds (logit)\n",
    "\n",
    "penalty = ['l2']\n",
    "C = np.logspace(0, 4, 10)\n",
    "param_grid = dict(C=C, penalty=penalty)\n",
    "\n",
    "logistic = linear_model.LogisticRegression(solver='lbfgs', max_iter=10000)\n",
    "logistic_grid = GridSearchCV(logistic, param_grid, cv=5, scoring='roc_auc', verbose=10, n_jobs=-1)\n",
    "logistic_grid.fit(x_norm_train, y_train)"
   ]
  },
  {
   "cell_type": "code",
   "execution_count": 52,
   "metadata": {},
   "outputs": [],
   "source": [
    "# Run CV with 5 folds (SVM)\n",
    "\n",
    "# C = [1]\n",
    "# gammas = [0.001, 0.1]\n",
    "# param_grid = dict(C=C, gamma=gammas)\n",
    "\n",
    "# svm1 = svm.SVC(kernel='rbf', probability=True)\n",
    "# svm_grid = GridSearchCV(svm1, param_grid, cv=5, scoring='roc_auc', verbose=10, n_jobs=-1)\n",
    "# svm_grid.fit(x_norm_train, y_train)"
   ]
  },
  {
   "cell_type": "code",
   "execution_count": 53,
   "metadata": {},
   "outputs": [],
   "source": [
    "# Fit a Naive Bayes Model\n",
    "\n",
    "gnb = GaussianNB()\n",
    "gnb_best = gnb.fit(x_norm_train, y_train)"
   ]
  },
  {
   "cell_type": "code",
   "execution_count": null,
   "metadata": {},
   "outputs": [
    {
     "name": "stdout",
     "output_type": "stream",
     "text": [
      "Fitting 5 folds for each of 108 candidates, totalling 540 fits\n"
     ]
    },
    {
     "name": "stderr",
     "output_type": "stream",
     "text": [
      "[Parallel(n_jobs=-1)]: Using backend LokyBackend with 4 concurrent workers.\n",
      "[Parallel(n_jobs=-1)]: Done   5 tasks      | elapsed:   12.5s\n",
      "[Parallel(n_jobs=-1)]: Done  10 tasks      | elapsed:   22.8s\n",
      "[Parallel(n_jobs=-1)]: Done  17 tasks      | elapsed:   38.2s\n",
      "[Parallel(n_jobs=-1)]: Done  24 tasks      | elapsed:   51.1s\n",
      "[Parallel(n_jobs=-1)]: Done  33 tasks      | elapsed:  1.2min\n",
      "[Parallel(n_jobs=-1)]: Done  42 tasks      | elapsed:  1.6min\n",
      "[Parallel(n_jobs=-1)]: Done  53 tasks      | elapsed:  1.8min\n",
      "[Parallel(n_jobs=-1)]: Done  64 tasks      | elapsed:  2.2min\n",
      "[Parallel(n_jobs=-1)]: Done  77 tasks      | elapsed:  2.7min\n",
      "[Parallel(n_jobs=-1)]: Done  90 tasks      | elapsed:  3.0min\n",
      "[Parallel(n_jobs=-1)]: Done 105 tasks      | elapsed:  3.5min\n",
      "[Parallel(n_jobs=-1)]: Done 120 tasks      | elapsed:  3.9min\n",
      "[Parallel(n_jobs=-1)]: Done 137 tasks      | elapsed:  4.4min\n",
      "[Parallel(n_jobs=-1)]: Done 154 tasks      | elapsed:  4.9min\n",
      "[Parallel(n_jobs=-1)]: Done 173 tasks      | elapsed:  5.5min\n",
      "[Parallel(n_jobs=-1)]: Done 192 tasks      | elapsed:  6.3min\n",
      "[Parallel(n_jobs=-1)]: Done 213 tasks      | elapsed:  6.9min\n",
      "[Parallel(n_jobs=-1)]: Done 234 tasks      | elapsed:  7.5min\n",
      "[Parallel(n_jobs=-1)]: Done 257 tasks      | elapsed:  8.2min\n",
      "[Parallel(n_jobs=-1)]: Done 280 tasks      | elapsed:  8.9min\n"
     ]
    }
   ],
   "source": [
    "# Run CV with 5 folds (Random Forest)\n",
    "\n",
    "# Create the parameter grid based on the results of random search \n",
    "param_grid = {\n",
    "    'max_depth': [50, 80, 100, None],\n",
    "    'max_features': ['sqrt'],\n",
    "    'min_samples_leaf': [1, 3, 5],\n",
    "    'min_samples_split': [2, 4, 6],\n",
    "    'n_estimators': [400, 600, 1000]\n",
    "}\n",
    "\n",
    "rf = RandomForestClassifier()\n",
    "rf_grid = GridSearchCV(estimator=rf, param_grid=param_grid, cv=5, verbose=10, n_jobs=-1)\n",
    "rf_grid.fit(x_norm_train, y_train)"
   ]
  },
  {
   "cell_type": "code",
   "execution_count": 56,
   "metadata": {},
   "outputs": [],
   "source": [
    "# Train a neural network that doesn't crash your kernel\n",
    "\n",
    "# n_cols = x_norm_val.shape[1]\n",
    "# nn_model = MLPClassifier(solver='lbfgs', hidden_layer_sizes=(n_cols,100))\n",
    "\n",
    "# nn_model.fit(x_norm_train, y_train)"
   ]
  },
  {
   "cell_type": "code",
   "execution_count": 57,
   "metadata": {},
   "outputs": [
    {
     "data": {
      "text/plain": [
       "BaggingClassifier(base_estimator=LogisticRegression(C=1.0, class_weight=None, dual=False, fit_intercept=True,\n",
       "          intercept_scaling=1, max_iter=10000, multi_class='warn',\n",
       "          n_jobs=None, penalty='l2', random_state=None, solver='lbfgs',\n",
       "          tol=0.0001, verbose=0, warm_start=False),\n",
       "         bootstrap=True, bootstrap_features=False, max_features=0.25,\n",
       "         max_samples=0.25, n_estimators=100, n_jobs=None, oob_score=False,\n",
       "         random_state=None, verbose=0, warm_start=False)"
      ]
     },
     "execution_count": 57,
     "metadata": {},
     "output_type": "execute_result"
    }
   ],
   "source": [
    "# Bagging\n",
    "\n",
    "bagging_logit = BaggingClassifier(linear_model.LogisticRegression(solver='lbfgs', max_iter=10000), \n",
    "                                  n_estimators=100, max_samples=0.25, max_features=0.25)\n",
    "bagging_logit.fit(x_norm_train, y_train)"
   ]
  },
  {
   "cell_type": "code",
   "execution_count": null,
   "metadata": {},
   "outputs": [],
   "source": [
    "# Gradient Boosting\n",
    "\n",
    "# params = {'n_estimators': 500,\n",
    "#           'max_leaf_nodes': 5, \n",
    "#           'max_depth': None, \n",
    "#           'min_samples_split': 5,\n",
    "#           'learning_rate': 0.1, \n",
    "#           'subsample': 0.20}\n",
    "\n",
    "# gboost = GradientBoostingClassifier(**params)\n",
    "# gboost.fit(x_norm_train, y_train)\n",
    "\n",
    "# Grid search and CV\n",
    "\n",
    "# Create the parameter grid based on the results of random search \n",
    "param_grid = {\n",
    "    'max_depth': [50, 80, 100, None],\n",
    "    'min_samples_leaf': [1, 3, 5],\n",
    "    'min_samples_split': [2, 4, 6],\n",
    "    'n_estimators': [400, 600, 1000]\n",
    "    'learning_rate': [0.1, 0.2, 1.0], \n",
    "    'subsample': [0.20, 0.50]\n",
    "}\n",
    "\n",
    "gboost = GradientBoostingClassifier()\n",
    "gboost_grid = GridSearchCV(estimator=gboost, param_grid=param_grid, cv=5, verbose=10, n_jobs=-1)\n",
    "gboost_grid.fit(x_norm_train, y_train)"
   ]
  },
  {
   "cell_type": "code",
   "execution_count": 59,
   "metadata": {},
   "outputs": [
    {
     "name": "stdout",
     "output_type": "stream",
     "text": [
      "Best ROC_AUC for logit: 0.5634\n",
      "Best ROC_AUC for rf: 0.6719\n"
     ]
    }
   ],
   "source": [
    "#print('Best ROC_AUC for knn: %0.4f' % knn_grid.best_score_)\n",
    "print('Best ROC_AUC for logit: %0.4f' % logistic_grid.best_score_)\n",
    "#print('Best ROC_AUC for svm: %0.4f' % svm_grid.best_score_)\n",
    "print('Best ROC_AUC for rf: %0.4f' % rf_grid.best_score_)"
   ]
  },
  {
   "cell_type": "code",
   "execution_count": 60,
   "metadata": {},
   "outputs": [
    {
     "name": "stdout",
     "output_type": "stream",
     "text": [
      "Best Params for logit:  {'C': 1.0, 'penalty': 'l2'}\n",
      "Best Params for rf:  {'max_depth': 50, 'max_features': 'sqrt', 'min_samples_leaf': 2, 'min_samples_split': 2, 'n_estimators': 400}\n"
     ]
    }
   ],
   "source": [
    "#print('Best Params for knn: ', knn_grid.best_params_)\n",
    "print('Best Params for logit: ', logistic_grid.best_params_)\n",
    "#print('Best Params for svm: ', svm_grid.best_params_)\n",
    "print('Best Params for rf: ', rf_grid.best_params_)"
   ]
  },
  {
   "cell_type": "code",
   "execution_count": 61,
   "metadata": {},
   "outputs": [
    {
     "data": {
      "text/plain": [
       "array([[ 0.04515633,  0.13181944,  0.06902461,  0.15565474, -0.0686227 ,\n",
       "         0.04810648,  0.02216239, -0.00720661, -0.04157319]])"
      ]
     },
     "execution_count": 61,
     "metadata": {},
     "output_type": "execute_result"
    }
   ],
   "source": [
    "# Fit sub_grade Classifier\n",
    "\n",
    "x_patsy_sg_train = x_norm_train[:,5:14]\n",
    "x_patsy_sg_val = x_norm_val[:,5:14]\n",
    "x_patsy_sg_test = x_norm_test[:,5:14]\n",
    "\n",
    "logistic_sub_grade = linear_model.LogisticRegression(solver='lbfgs', max_iter=10000)\n",
    "logistic_sub_grade.fit(x_patsy_sg_train, y_train)\n",
    "logistic_sub_grade.coef_"
   ]
  },
  {
   "cell_type": "code",
   "execution_count": 62,
   "metadata": {},
   "outputs": [
    {
     "data": {
      "text/plain": [
       "DummyClassifier(constant=None, random_state=None, strategy='stratified')"
      ]
     },
     "execution_count": 62,
     "metadata": {},
     "output_type": "execute_result"
    }
   ],
   "source": [
    "# Fit Dummy Classifier\n",
    "from sklearn.dummy import DummyClassifier\n",
    "\n",
    "dummy = DummyClassifier()\n",
    "dummy.fit(x_norm_train, y_train)"
   ]
  },
  {
   "cell_type": "code",
   "execution_count": 67,
   "metadata": {
    "scrolled": false
   },
   "outputs": [
    {
     "data": {
      "image/png": "[encoded data removed]",
      "text/plain": [
       "<Figure size 720x576 with 1 Axes>"
      ]
     },
     "metadata": {
      "needs_background": "light"
     },
     "output_type": "display_data"
    }
   ],
   "source": [
    "# ROC for all the models\n",
    "\n",
    "# model_list = [knn_grid.best_estimator_, \n",
    "#               logistic_grid.best_estimator_, \n",
    "#               svm_grid.best_estimator_, \n",
    "#               gnb_best, \n",
    "#               rf_grid.best_estimator_,\n",
    "#               'ensemble',\n",
    "#               logistic_sub_grade,\n",
    "#               dummy]\n",
    "# model_name = ['knn', 'logit', 'svm', 'n_bayes', 'random_forest', 'ensemble', 'sg_only', 'dummy']\n",
    "\n",
    "# ROC for just the FASTEST models\n",
    "\n",
    "# model_list = [logistic_grid.best_estimator_, \n",
    "#               gnb_best, \n",
    "#               rf_grid.best_estimator_,\n",
    "#               'ensemble',\n",
    "#               logistic_sub_grade,\n",
    "#               dummy]\n",
    "# model_name = ['logit', 'n_bayes', 'random_forest', 'ensemble', 'sg_only', 'dummy']\n",
    "\n",
    "# ROC for testing\n",
    "\n",
    "#model_list = [gboost,\n",
    "#              bagging_logit,\n",
    "#              logistic_grid.best_estimator_,\n",
    "#              rf_grid.best_estimator_,\n",
    "#              logistic_sub_grade,\n",
    "#              dummy]\n",
    "#model_name = ['gboost', 'bagging', 'logit', 'rand_forest', 'sg_only', 'dummy']\n",
    "\n",
    "model_list = [gboost,\n",
    "              logistic_grid.best_estimator_,\n",
    "              rf_grid.best_estimator_,\n",
    "              logistic_sub_grade,\n",
    "              dummy]\n",
    "model_name = ['gboost', 'logit', 'rand_forest', 'sg_only', 'dummy']\n",
    "\n",
    "# Plot ROC curve for all my models\n",
    "fig, ax = plt.subplots(figsize=(10,8))\n",
    "for i, model in enumerate(model_list):\n",
    "    if model == 'ensemble':\n",
    "        w1 = 0.60\n",
    "        w2 = 0.30\n",
    "        y_pred = (w1*logistic_grid.best_estimator_.predict_proba(x_norm_val)[:,1] \n",
    "                  + w2*rf_grid.best_estimator_.predict_proba(x_norm_val)[:,1]\n",
    "                  + (1-w1-w2)*gnb_best.predict_proba(x_norm_val)[:,1])\n",
    "        \n",
    "    elif model == logistic_sub_grade:\n",
    "        y_pred = list(model.predict_proba(x_patsy_sg_val)[:,1])\n",
    "    else:\n",
    "        y_pred = list(model.predict_proba(x_norm_val)[:,1])\n",
    "    fpr, tpr, threshold = metrics.roc_curve(y_val, y_pred)\n",
    "    roc_auc = metrics.auc(fpr, tpr)\n",
    "    plt.plot(fpr, tpr, label = (model_name[i] + ' AUC = %0.4f' % roc_auc))\n",
    "\n",
    "plt.legend(loc = 'lower right')\n",
    "plt.title('Receiver Operating Characteristic')\n",
    "plt.plot([0, 1], [0, 1],'r--')\n",
    "plt.xlim([0, 1])\n",
    "plt.ylim([0, 1])\n",
    "plt.ylabel('True Positive Rate')\n",
    "plt.xlabel('False Positive Rate')\n",
    "plt.show()"
   ]
  },
  {
   "cell_type": "code",
   "execution_count": 64,
   "metadata": {},
   "outputs": [
    {
     "data": {
      "text/html": [
       "<div>\n",
       "<style scoped>\n",
       "    .dataframe tbody tr th:only-of-type {\n",
       "        vertical-align: middle;\n",
       "    }\n",
       "\n",
       "    .dataframe tbody tr th {\n",
       "        vertical-align: top;\n",
       "    }\n",
       "\n",
       "    .dataframe thead th {\n",
       "        text-align: right;\n",
       "    }\n",
       "</style>\n",
       "<table border=\"1\" class=\"dataframe\">\n",
       "  <thead>\n",
       "    <tr style=\"text-align: right;\">\n",
       "      <th></th>\n",
       "      <th>logit</th>\n",
       "      <th>gnb</th>\n",
       "      <th>rand_forest</th>\n",
       "    </tr>\n",
       "  </thead>\n",
       "  <tbody>\n",
       "    <tr>\n",
       "      <th>logit</th>\n",
       "      <td>1.000000</td>\n",
       "      <td>0.930331</td>\n",
       "      <td>0.974605</td>\n",
       "    </tr>\n",
       "    <tr>\n",
       "      <th>gnb</th>\n",
       "      <td>0.930331</td>\n",
       "      <td>1.000000</td>\n",
       "      <td>0.926782</td>\n",
       "    </tr>\n",
       "    <tr>\n",
       "      <th>rand_forest</th>\n",
       "      <td>0.974605</td>\n",
       "      <td>0.926782</td>\n",
       "      <td>1.000000</td>\n",
       "    </tr>\n",
       "  </tbody>\n",
       "</table>\n",
       "</div>"
      ],
      "text/plain": [
       "                logit       gnb  rand_forest\n",
       "logit        1.000000  0.930331     0.974605\n",
       "gnb          0.930331  1.000000     0.926782\n",
       "rand_forest  0.974605  0.926782     1.000000"
      ]
     },
     "execution_count": 64,
     "metadata": {},
     "output_type": "execute_result"
    }
   ],
   "source": [
    "# Examine the correlation of the model errors\n",
    "\n",
    "#knn_error = y_train - knn_grid.predict_proba(x_norm_train)[:,1]\n",
    "logit_error = y_train - logistic_grid.predict_proba(x_norm_train)[:,1]\n",
    "#svm_error = y_train - svm_grid.predict_proba(x_norm_train)[:,1]\n",
    "gnb_error = y_train - gnb_best.predict_proba(x_norm_train)[:,1]\n",
    "rf_error = y_train - rf_grid.predict_proba(x_norm_train)[:,1]\n",
    "\n",
    "error_df = pd.DataFrame()\n",
    "#error_df['knn'] = knn_error\n",
    "error_df['logit'] = logit_error\n",
    "#error_df['svm'] = svm_error\n",
    "error_df['gnb'] = gnb_error\n",
    "error_df['rand_forest'] = rf_error\n",
    "\n",
    "error_df.corr()"
   ]
  },
  {
   "cell_type": "code",
   "execution_count": null,
   "metadata": {},
   "outputs": [],
   "source": [
    "# Try to boost performance using PCA"
   ]
  },
  {
   "cell_type": "code",
   "execution_count": null,
   "metadata": {},
   "outputs": [],
   "source": [
    "# Try to boost performance using Ensemble"
   ]
  },
  {
   "cell_type": "code",
   "execution_count": null,
   "metadata": {},
   "outputs": [],
   "source": [
    "# Set cutoff by trading off between recall and precision (confusion matrix)\n",
    "# conf_mat = metrics.confusion_matrix(y_val, y_pred)"
   ]
  },
  {
   "cell_type": "code",
   "execution_count": null,
   "metadata": {},
   "outputs": [],
   "source": [
    "# For backtest, randomly pick baskets of 500 loans and compare their performance with your model picked 500 loans"
   ]
  },
  {
   "cell_type": "code",
   "execution_count": null,
   "metadata": {},
   "outputs": [],
   "source": []
  }
 ],
 "metadata": {
  "kernelspec": {
   "display_name": "Python 3",
   "language": "python",
   "name": "python3"
  }
 },
 "nbformat": 4,
 "nbformat_minor": 2
}
